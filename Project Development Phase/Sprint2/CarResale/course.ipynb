{
 "cells": [
  {
   "cell_type": "code",
   "execution_count": 1,
   "metadata": {},
   "outputs": [],
   "source": [
    "import pandas as pd\n",
    "import numpy as np\n",
    "import matplotlib as plt\n",
    "from sklearn.preprocessing import LabelEncoder\n",
    "import pickle"
   ]
  },
  {
   "cell_type": "code",
   "execution_count": 2,
   "metadata": {},
   "outputs": [],
   "source": [
    "df = pd.read_csv(\"Data/autos.csv\",header=0, sep=',',encoding='latin1',)"
   ]
  },
  {
   "cell_type": "code",
   "execution_count": 3,
   "metadata": {},
   "outputs": [
    {
     "name": "stderr",
     "output_type": "stream",
     "text": [
      "<ipython-input-3-56df28571f9b>:3: FutureWarning: In a future version of pandas all arguments of DataFrame.drop except for the argument 'labels' will be keyword-only.\n",
      "  df=df.drop('seller',1)\n",
      "<ipython-input-3-56df28571f9b>:7: FutureWarning: In a future version of pandas all arguments of DataFrame.drop except for the argument 'labels' will be keyword-only.\n",
      "  df=df.drop('offerType',1)\n"
     ]
    }
   ],
   "source": [
    "# print(df.seller.value_counts())\n",
    "# df[df.seller != 'gewerblich']\n",
    "df=df.drop('seller',1)\n",
    "\n",
    "# print(df.offerType.value_counts())\n",
    "# df[df.offerType != 'Gesuch']\n",
    "df=df.drop('offerType',1)"
   ]
  },
  {
   "cell_type": "code",
   "execution_count": 4,
   "metadata": {},
   "outputs": [
    {
     "name": "stdout",
     "output_type": "stream",
     "text": [
      "(371824, 18)\n",
      "(319957, 18)\n",
      "(309412, 18)\n"
     ]
    }
   ],
   "source": [
    "print(df.shape)\n",
    "df = df[(df.powerPS > 50) & (df.powerPS < 900)]\n",
    "print(df.shape)\n",
    "\n",
    "df = df[(df.yearOfRegistration >= 1950) & (df.yearOfRegistration < 2017)]\n",
    "print(df.shape)"
   ]
  },
  {
   "cell_type": "code",
   "execution_count": 5,
   "metadata": {},
   "outputs": [],
   "source": [
    "df.drop(['name','abtest','dateCrawled','nrOfPictures','lastSeen','postalCode','dateCreated'], axis='columns', inplace=True)"
   ]
  },
  {
   "cell_type": "code",
   "execution_count": 6,
   "metadata": {},
   "outputs": [],
   "source": [
    "new_df = df.copy()\n",
    "new_df = new_df.drop_duplicates(['price','vehicleType','yearOfRegistration','gearbox','powerPS','model','kilometer','monthOfRegistration','fuelType'\n",
    ",'notRepairedDamage'])"
   ]
  },
  {
   "cell_type": "code",
   "execution_count": 7,
   "metadata": {},
   "outputs": [],
   "source": [
    "new_df.gearbox.replace(('manuell','automatik'),('manual','automatic'),inplace=True)\n",
    "new_df.fuelType.replace(('benzin','andere','elektro'),('petrol','others','electric'),inplace=True)\n",
    "new_df.vehicleType.replace(('kleinwagen','cabrio','kombi','andere'),\n",
    "                            ('small car','convertible','combination','others'),inplace=True)\n",
    "new_df.notRepairedDamage.replace(('ja','nein'),('Yes','NO'),inplace=True)"
   ]
  },
  {
   "cell_type": "code",
   "execution_count": 8,
   "metadata": {},
   "outputs": [],
   "source": [
    "new_df = new_df[(new_df.price >= 100) & (new_df.price <= 15000)]\n",
    "\n",
    "new_df['notRepairedDamage'].fillna(value='not-declared', inplace=True)\n",
    "new_df['fuelType'].fillna(value='not-declared', inplace=True)\n",
    "new_df['gearbox'].fillna(value='not-declared', inplace=True)\n",
    "new_df['vehicleType'].fillna(value='not-declared', inplace=True)\n",
    "new_df['model'].fillna(value='not-declared', inplace=True)"
   ]
  },
  {
   "cell_type": "code",
   "execution_count": 9,
   "metadata": {},
   "outputs": [
    {
     "data": {
      "text/plain": [
       "(309412, 11)"
      ]
     },
     "execution_count": 9,
     "metadata": {},
     "output_type": "execute_result"
    }
   ],
   "source": [
    "new_df.to_csv(\"Data/autos_preprocessed.csv\")\n",
    "df.shape"
   ]
  },
  {
   "cell_type": "code",
   "execution_count": 10,
   "metadata": {},
   "outputs": [],
   "source": [
    "new_df = pd.read_csv(\"Data/autos_preprocessed.csv\",header=0, sep=',',encoding='latin1',)"
   ]
  },
  {
   "cell_type": "markdown",
   "metadata": {},
   "source": [
    "<b>Cleaning The Dataset</b>"
   ]
  },
  {
   "cell_type": "code",
   "execution_count": 11,
   "metadata": {},
   "outputs": [
    {
     "name": "stdout",
     "output_type": "stream",
     "text": [
      "gearbox ; LabelEncoder()\n",
      "notRepairedDamage ; LabelEncoder()\n",
      "model ; LabelEncoder()\n",
      "brand ; LabelEncoder()\n",
      "fuelType ; LabelEncoder()\n",
      "vehicleType ; LabelEncoder()\n",
      "Index(['price', 'yearOfRegistration', 'powerPS', 'kilometer',\n",
      "       'monthOfRegistration', 'gearbox_labels', 'notRepairedDamage_labels',\n",
      "       'model_labels', 'brand_labels', 'fuelType_labels',\n",
      "       'vehicleType_labels'],\n",
      "      dtype='object')\n"
     ]
    }
   ],
   "source": [
    "labels = ['gearbox', 'notRepairedDamage','model','brand','fuelType','vehicleType']\n",
    "\n",
    "mapper = {}\n",
    "for i in labels: \n",
    "    mapper[i] = LabelEncoder()\n",
    "    mapper[i].fit(new_df[i])\n",
    "    tr = mapper[i].transform(new_df[i])\n",
    "    np.save('Data/'+str('classes'+i+'.npy'), mapper[i].classes_)\n",
    "    print(i,\";\",mapper[i])\n",
    "    new_df.loc[:,i+'_labels'] = pd.Series(tr, index=new_df.index)\n",
    "\n",
    "labeled = new_df[['price'\n",
    "                        ,'yearOfRegistration'\n",
    "                        ,'powerPS'\n",
    "                        ,'kilometer'\n",
    "                        ,'monthOfRegistration'\n",
    "                        ]\n",
    "                    + [x+\"_labels\" for x in labels]]\n",
    "\n",
    "print(labeled.columns)"
   ]
  },
  {
   "cell_type": "markdown",
   "metadata": {},
   "source": [
    "<b>Splitting Data into Independant And Dependant Variables</b>"
   ]
  },
  {
   "cell_type": "code",
   "execution_count": 12,
   "metadata": {},
   "outputs": [],
   "source": [
    "Y = labeled.iloc[:,0].values\n",
    "X = labeled.iloc[:,1:].values\n",
    "\n",
    "Y = Y.reshape(-1,1)"
   ]
  },
  {
   "cell_type": "code",
   "execution_count": 13,
   "metadata": {},
   "outputs": [],
   "source": [
    "from sklearn.model_selection import cross_val_score, train_test_split\n",
    "X_train, X_test, Y_train, Y_test = train_test_split(X, Y, test_size=0.3, random_state = 3)"
   ]
  },
  {
   "cell_type": "markdown",
   "metadata": {},
   "source": [
    "<h1>Model Building</h1>"
   ]
  },
  {
   "cell_type": "code",
   "execution_count": 14,
   "metadata": {},
   "outputs": [
    {
     "data": {
      "text/plain": [
       "RandomForestRegressor(bootstrap=True, ccp_alpha=0.0, criterion='mse',\n",
       "                      max_depth=10, max_features='auto', max_leaf_nodes=None,\n",
       "                      max_samples=None, min_impurity_decrease=0.0,\n",
       "                      min_impurity_split=None, min_samples_leaf=1,\n",
       "                      min_samples_split=2, min_weight_fraction_leaf=0.0,\n",
       "                      n_estimators=1000, n_jobs=None, oob_score=False,\n",
       "                      random_state=34, verbose=0, warm_start=False)"
      ]
     },
     "execution_count": 14,
     "metadata": {},
     "output_type": "execute_result"
    }
   ],
   "source": [
    "from sklearn.ensemble import RandomForestRegressor\n",
    "from sklearn.metrics import r2_score\n",
    "regressor = RandomForestRegressor(n_estimators=1000,max_depth=10,random_state=34)\n",
    "\n",
    "regressor.fit(X_train, np.ravel(Y_train,order='C'))"
   ]
  },
  {
   "cell_type": "code",
   "execution_count": 15,
   "metadata": {},
   "outputs": [
    {
     "name": "stdout",
     "output_type": "stream",
     "text": [
      "0.8136405572696948\n"
     ]
    }
   ],
   "source": [
    "y_pred = regressor.predict(X_test)\n",
    "\n",
    "print(r2_score(Y_test,y_pred))"
   ]
  },
  {
   "cell_type": "code",
   "execution_count": 16,
   "metadata": {},
   "outputs": [],
   "source": [
    "filename = 'Data/resale_model.sav'\n",
    "pickle.dump(regressor, open(filename, 'wb'))"
   ]
  }
 ],
 "metadata": {
  "kernelspec": {
   "display_name": "Python 3.8.10 64-bit (microsoft store)",
   "language": "python",
   "name": "python3"
  },
  "language_info": {
   "codemirror_mode": {
    "name": "ipython",
    "version": 3
   },
   "file_extension": ".py",
   "mimetype": "text/x-python",
   "name": "python",
   "nbconvert_exporter": "python",
   "pygments_lexer": "ipython3",
   "version": "3.8.10"
  },
  "orig_nbformat": 4,
  "vscode": {
   "interpreter": {
    "hash": "19aee7243106f04056d7a38952f0e54ad8599c0107edb7b7a37c77dc8635ace7"
   }
  }
 },
 "nbformat": 4,
 "nbformat_minor": 2
}
